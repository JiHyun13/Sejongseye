{
 "cells": [
  {
   "cell_type": "code",
   "execution_count": 2,
   "metadata": {},
   "outputs": [],
   "source": [
    "from ultralytics import YOLO\n",
    "import os, yaml\n",
    "import pandas as pd\n",
    "import matplotlib as plt\n",
    "import matplotlib.image as mpimg"
   ]
  },
  {
   "cell_type": "code",
   "execution_count": null,
   "metadata": {},
   "outputs": [
    {
     "name": "stdout",
     "output_type": "stream",
     "text": [
      "New https://pypi.org/project/ultralytics/8.3.44 available  Update with 'pip install -U ultralytics'\n",
      "Ultralytics 8.3.7  Python-3.12.4 torch-2.4.1+cpu CPU (13th Gen Intel Core(TM) i7-13700)\n",
      "\u001b[34m\u001b[1mengine\\trainer: \u001b[0mtask=detect, mode=train, model=yolov8n.pt, data=D:/project/Sejongseye/YOLOv8/coco8.yaml, epochs=3, time=None, patience=100, batch=5, imgsz=640, save=True, save_period=-1, cache=False, device=None, workers=8, project=None, name=test_result5, exist_ok=False, pretrained=True, optimizer=AdamW, verbose=True, seed=0, deterministic=True, single_cls=False, rect=False, cos_lr=False, close_mosaic=10, resume=False, amp=True, fraction=1.0, profile=False, freeze=None, multi_scale=False, overlap_mask=True, mask_ratio=4, dropout=0.0, val=True, split=val, save_json=False, save_hybrid=False, conf=None, iou=0.7, max_det=300, half=False, dnn=False, plots=True, source=None, vid_stride=1, stream_buffer=False, visualize=False, augment=False, agnostic_nms=False, classes=None, retina_masks=False, embed=None, show=False, save_frames=False, save_txt=False, save_conf=False, save_crop=False, show_labels=True, show_conf=True, show_boxes=True, line_width=None, format=torchscript, keras=False, optimize=False, int8=False, dynamic=False, simplify=True, opset=None, workspace=4, nms=False, lr0=0.005, lrf=0.01, momentum=0.937, weight_decay=0.0005, warmup_epochs=3.0, warmup_momentum=0.8, warmup_bias_lr=0.1, box=7.5, cls=0.5, dfl=1.5, pose=12.0, kobj=1.0, label_smoothing=0.0, nbs=64, hsv_h=0.015, hsv_s=0.7, hsv_v=0.4, degrees=0.0, translate=0.1, scale=0.5, shear=0.0, perspective=0.0, flipud=0.0, fliplr=0.5, bgr=0.0, mosaic=1.0, mixup=0.0, copy_paste=0.0, copy_paste_mode=flip, auto_augment=randaugment, erasing=0.4, crop_fraction=1.0, cfg=None, tracker=botsort.yaml, save_dir=runs\\detect\\test_result5\n",
      "Overriding model.yaml nc=80 with nc=7\n",
      "\n",
      "                   from  n    params  module                                       arguments                     \n",
      "  0                  -1  1       464  ultralytics.nn.modules.conv.Conv             [3, 16, 3, 2]                 \n",
      "  1                  -1  1      4672  ultralytics.nn.modules.conv.Conv             [16, 32, 3, 2]                \n",
      "  2                  -1  1      7360  ultralytics.nn.modules.block.C2f             [32, 32, 1, True]             \n",
      "  3                  -1  1     18560  ultralytics.nn.modules.conv.Conv             [32, 64, 3, 2]                \n",
      "  4                  -1  2     49664  ultralytics.nn.modules.block.C2f             [64, 64, 2, True]             \n",
      "  5                  -1  1     73984  ultralytics.nn.modules.conv.Conv             [64, 128, 3, 2]               \n",
      "  6                  -1  2    197632  ultralytics.nn.modules.block.C2f             [128, 128, 2, True]           \n",
      "  7                  -1  1    295424  ultralytics.nn.modules.conv.Conv             [128, 256, 3, 2]              \n",
      "  8                  -1  1    460288  ultralytics.nn.modules.block.C2f             [256, 256, 1, True]           \n",
      "  9                  -1  1    164608  ultralytics.nn.modules.block.SPPF            [256, 256, 5]                 \n",
      " 10                  -1  1         0  torch.nn.modules.upsampling.Upsample         [None, 2, 'nearest']          \n",
      " 11             [-1, 6]  1         0  ultralytics.nn.modules.conv.Concat           [1]                           \n",
      " 12                  -1  1    148224  ultralytics.nn.modules.block.C2f             [384, 128, 1]                 \n",
      " 13                  -1  1         0  torch.nn.modules.upsampling.Upsample         [None, 2, 'nearest']          \n",
      " 14             [-1, 4]  1         0  ultralytics.nn.modules.conv.Concat           [1]                           \n",
      " 15                  -1  1     37248  ultralytics.nn.modules.block.C2f             [192, 64, 1]                  \n",
      " 16                  -1  1     36992  ultralytics.nn.modules.conv.Conv             [64, 64, 3, 2]                \n",
      " 17            [-1, 12]  1         0  ultralytics.nn.modules.conv.Concat           [1]                           \n",
      " 18                  -1  1    123648  ultralytics.nn.modules.block.C2f             [192, 128, 1]                 \n",
      " 19                  -1  1    147712  ultralytics.nn.modules.conv.Conv             [128, 128, 3, 2]              \n",
      " 20             [-1, 9]  1         0  ultralytics.nn.modules.conv.Concat           [1]                           \n",
      " 21                  -1  1    493056  ultralytics.nn.modules.block.C2f             [384, 256, 1]                 \n",
      " 22        [15, 18, 21]  1    432037  ultralytics.nn.modules.head.Detect           [7, [64, 128, 256]]           \n",
      "Model summary: 249 layers, 2,691,573 parameters, 2,691,557 gradients, 6.9 GFLOPs\n",
      "\n",
      "Transferred 313/391 items from pretrained weights\n",
      "Freezing layer 'model.22.dfl.conv.weight'\n"
     ]
    },
    {
     "name": "stderr",
     "output_type": "stream",
     "text": [
      "\u001b[34m\u001b[1mtrain: \u001b[0mScanning D:\\project\\Sejongseye\\YOLOv8\\dataset\\train\\labels... 283043 images, 1 backgrounds, 22 corrupt: 100%|██████████| 283043/283043 [30:08<00:00, 156.51it/s]"
     ]
    },
    {
     "name": "stdout",
     "output_type": "stream",
     "text": [
      "\u001b[34m\u001b[1mtrain: \u001b[0mWARNING  D:\\project\\Sejongseye\\YOLOv8\\dataset\\train\\images\\15_X011_C000_0329_3.jpg: ignoring corrupt image/label: non-normalized or out of bounds coordinates [     1.0854]\n",
      "\u001b[34m\u001b[1mtrain: \u001b[0mWARNING  D:\\project\\Sejongseye\\YOLOv8\\dataset\\train\\images\\15_X014_C000_0329_1.jpg: ignoring corrupt image/label: non-normalized or out of bounds coordinates [     1.0167]\n",
      "\u001b[34m\u001b[1mtrain: \u001b[0mWARNING  D:\\project\\Sejongseye\\YOLOv8\\dataset\\train\\images\\15_X018_C173_1112_2.jpg: 1 duplicate labels removed\n",
      "\u001b[34m\u001b[1mtrain: \u001b[0mWARNING  D:\\project\\Sejongseye\\YOLOv8\\dataset\\train\\images\\16_X002_C704_1211_0.jpg: ignoring corrupt image/label: non-normalized or out of bounds coordinates [     1.0289]\n",
      "\u001b[34m\u001b[1mtrain: \u001b[0mWARNING  D:\\project\\Sejongseye\\YOLOv8\\dataset\\train\\images\\16_X005_C324_1130_0.jpg: ignoring corrupt image/label: non-normalized or out of bounds coordinates [     1.0104]\n",
      "\u001b[34m\u001b[1mtrain: \u001b[0mWARNING  D:\\project\\Sejongseye\\YOLOv8\\dataset\\train\\images\\16_X009_C169_1209_1.jpg: 1 duplicate labels removed\n",
      "\u001b[34m\u001b[1mtrain: \u001b[0mWARNING  D:\\project\\Sejongseye\\YOLOv8\\dataset\\train\\images\\16_X012_C509_0511_1.jpg: ignoring corrupt image/label: non-normalized or out of bounds coordinates [     1.0407]\n",
      "\u001b[34m\u001b[1mtrain: \u001b[0mWARNING  D:\\project\\Sejongseye\\YOLOv8\\dataset\\train\\images\\16_X031_C509_0511_0.jpg: ignoring corrupt image/label: non-normalized or out of bounds coordinates [     1.0257]\n",
      "\u001b[34m\u001b[1mtrain: \u001b[0mWARNING  D:\\project\\Sejongseye\\YOLOv8\\dataset\\train\\images\\17_X003_C024_1030_1.jpg: ignoring corrupt image/label: non-normalized or out of bounds coordinates [     1.0583]\n",
      "\u001b[34m\u001b[1mtrain: \u001b[0mWARNING  D:\\project\\Sejongseye\\YOLOv8\\dataset\\train\\images\\17_X003_C195_0929_0.jpg: ignoring corrupt image/label: non-normalized or out of bounds coordinates [     1.0875]\n",
      "\u001b[34m\u001b[1mtrain: \u001b[0mWARNING  D:\\project\\Sejongseye\\YOLOv8\\dataset\\train\\images\\17_X020_C172_1126_2.jpg: ignoring corrupt image/label: non-normalized or out of bounds coordinates [     1.0208]\n",
      "\u001b[34m\u001b[1mtrain: \u001b[0mWARNING  D:\\project\\Sejongseye\\YOLOv8\\dataset\\train\\images\\17_X022_C509_0511_1.jpg: ignoring corrupt image/label: non-normalized or out of bounds coordinates [     1.1736]\n",
      "\u001b[34m\u001b[1mtrain: \u001b[0mWARNING  D:\\project\\Sejongseye\\YOLOv8\\dataset\\train\\images\\17_X022_C509_0511_3.jpg: ignoring corrupt image/label: non-normalized or out of bounds coordinates [     1.1286]\n",
      "\u001b[34m\u001b[1mtrain: \u001b[0mWARNING  D:\\project\\Sejongseye\\YOLOv8\\dataset\\train\\images\\17_X022_C509_0511_4.jpg: ignoring corrupt image/label: non-normalized or out of bounds coordinates [     1.0547]\n",
      "\u001b[34m\u001b[1mtrain: \u001b[0mWARNING  D:\\project\\Sejongseye\\YOLOv8\\dataset\\train\\images\\17_X023_C509_0511_0.jpg: ignoring corrupt image/label: non-normalized or out of bounds coordinates [     1.0772]\n",
      "\u001b[34m\u001b[1mtrain: \u001b[0mWARNING  D:\\project\\Sejongseye\\YOLOv8\\dataset\\train\\images\\17_X023_C509_0511_1.jpg: ignoring corrupt image/label: non-normalized or out of bounds coordinates [     1.0605]\n",
      "\u001b[34m\u001b[1mtrain: \u001b[0mWARNING  D:\\project\\Sejongseye\\YOLOv8\\dataset\\train\\images\\17_X042_C509_0511_0.jpg: ignoring corrupt image/label: non-normalized or out of bounds coordinates [     1.0585]\n",
      "\u001b[34m\u001b[1mtrain: \u001b[0mWARNING  D:\\project\\Sejongseye\\YOLOv8\\dataset\\train\\images\\17_X042_C509_0511_2.jpg: ignoring corrupt image/label: non-normalized or out of bounds coordinates [     1.0605]\n",
      "\u001b[34m\u001b[1mtrain: \u001b[0mWARNING  D:\\project\\Sejongseye\\YOLOv8\\dataset\\train\\images\\17_X042_C509_0511_4.jpg: ignoring corrupt image/label: non-normalized or out of bounds coordinates [     1.0334]\n",
      "\u001b[34m\u001b[1mtrain: \u001b[0mWARNING  D:\\project\\Sejongseye\\YOLOv8\\dataset\\train\\images\\17_X386_C900_1021_0.jpg: 1 duplicate labels removed\n",
      "\u001b[34m\u001b[1mtrain: \u001b[0mWARNING  D:\\project\\Sejongseye\\YOLOv8\\dataset\\train\\images\\21_X001_C707_1211_4.jpg: ignoring corrupt image/label: non-normalized or out of bounds coordinates [     1.0125]\n",
      "\u001b[34m\u001b[1mtrain: \u001b[0mWARNING  D:\\project\\Sejongseye\\YOLOv8\\dataset\\train\\images\\21_X002_C203_0924_1.jpg: ignoring corrupt image/label: non-normalized or out of bounds coordinates [     1.0625]\n",
      "\u001b[34m\u001b[1mtrain: \u001b[0mWARNING  D:\\project\\Sejongseye\\YOLOv8\\dataset\\train\\images\\21_X004_C509_0511_0.jpg: ignoring corrupt image/label: non-normalized or out of bounds coordinates [     1.0531]\n",
      "\u001b[34m\u001b[1mtrain: \u001b[0mWARNING  D:\\project\\Sejongseye\\YOLOv8\\dataset\\train\\images\\21_X004_C509_0511_2.jpg: ignoring corrupt image/label: non-normalized or out of bounds coordinates [     1.0064]\n",
      "\u001b[34m\u001b[1mtrain: \u001b[0mWARNING  D:\\project\\Sejongseye\\YOLOv8\\dataset\\train\\images\\21_X004_C707_1211_2.jpg: ignoring corrupt image/label: non-normalized or out of bounds coordinates [     1.0521]\n"
     ]
    },
    {
     "name": "stderr",
     "output_type": "stream",
     "text": [
      "\n"
     ]
    },
    {
     "name": "stdout",
     "output_type": "stream",
     "text": [
      "\u001b[34m\u001b[1mtrain: \u001b[0mNew cache created: D:\\project\\Sejongseye\\YOLOv8\\dataset\\train\\labels.cache\n"
     ]
    },
    {
     "name": "stderr",
     "output_type": "stream",
     "text": [
      "\u001b[34m\u001b[1mval: \u001b[0mScanning D:\\project\\Sejongseye\\YOLOv8\\dataset\\valid\\labels.cache... 35641 images, 0 backgrounds, 5 corrupt: 100%|██████████| 35641/35641 [00:00<?, ?it/s]"
     ]
    },
    {
     "name": "stdout",
     "output_type": "stream",
     "text": [
      "\u001b[34m\u001b[1mval: \u001b[0mWARNING  D:\\project\\Sejongseye\\YOLOv8\\dataset\\valid\\images\\15_X004_C509_0511_0.jpg: ignoring corrupt image/label: non-normalized or out of bounds coordinates [     1.1472]\n",
      "\u001b[34m\u001b[1mval: \u001b[0mWARNING  D:\\project\\Sejongseye\\YOLOv8\\dataset\\valid\\images\\16_X002_C014_1130_0.jpg: ignoring corrupt image/label: non-normalized or out of bounds coordinates [     1.0145]\n",
      "\u001b[34m\u001b[1mval: \u001b[0mWARNING  D:\\project\\Sejongseye\\YOLOv8\\dataset\\valid\\images\\17_X001_C172_1126_1.jpg: ignoring corrupt image/label: non-normalized or out of bounds coordinates [     1.0333]\n",
      "\u001b[34m\u001b[1mval: \u001b[0mWARNING  D:\\project\\Sejongseye\\YOLOv8\\dataset\\valid\\images\\21_X011_C164_1013_1.jpg: 1 duplicate labels removed\n",
      "\u001b[34m\u001b[1mval: \u001b[0mWARNING  D:\\project\\Sejongseye\\YOLOv8\\dataset\\valid\\images\\22_X015_C204_1209_1.jpg: 1 duplicate labels removed\n",
      "\u001b[34m\u001b[1mval: \u001b[0mWARNING  D:\\project\\Sejongseye\\YOLOv8\\dataset\\valid\\images\\22_X026_C509_0512_2.jpg: ignoring corrupt image/label: non-normalized or out of bounds coordinates [     1.0056]\n",
      "\u001b[34m\u001b[1mval: \u001b[0mWARNING  D:\\project\\Sejongseye\\YOLOv8\\dataset\\valid\\images\\23_X006_C704_1211_0.jpg: ignoring corrupt image/label: non-normalized or out of bounds coordinates [     1.0418]\n"
     ]
    },
    {
     "name": "stderr",
     "output_type": "stream",
     "text": [
      "\n"
     ]
    },
    {
     "name": "stdout",
     "output_type": "stream",
     "text": [
      "Plotting labels to runs\\detect\\test_result5\\labels.jpg... \n"
     ]
    },
    {
     "ename": "",
     "evalue": "",
     "output_type": "error",
     "traceback": [
      "\u001b[1;31mThe Kernel crashed while executing code in the current cell or a previous cell. \n",
      "\u001b[1;31mPlease review the code in the cell(s) to identify a possible cause of the failure. \n",
      "\u001b[1;31mClick <a href='https://aka.ms/vscodeJupyterKernelCrash'>here</a> for more info. \n",
      "\u001b[1;31mView Jupyter <a href='command:jupyter.viewOutput'>log</a> for further details."
     ]
    }
   ],
   "source": [
    "model = YOLO(\"yolov8n.pt\")\n",
    "\n",
    "result = model.train(data=\"D:/project/Sejongseye/YOLOv8/coco8.yaml\", \n",
    "imgsz=640, \n",
    "epochs=3, \n",
    "batch = 5, \n",
    "optimizer='AdamW', \n",
    "lr0 = 0.005, \n",
    "name ='test_result')\n",
    "\n"
   ]
  },
  {
   "cell_type": "code",
   "execution_count": 15,
   "metadata": {},
   "outputs": [
    {
     "name": "stdout",
     "output_type": "stream",
     "text": [
      "WARNING  'line_thickness' is deprecated and will be removed in in the future. Use 'line_width' instead.\n",
      "\n",
      "image 1/1 D:\\project\\Sejongseye\\YOLOv8\\dataset\\test\\images\\test1.jpg: 480x640 (no detections), 52.6ms\n",
      "Speed: 0.0ms preprocess, 52.6ms inference, 0.0ms postprocess per image at shape (1, 3, 480, 640)\n",
      "Results saved to \u001b[1mruns\\detect\\predict2\u001b[0m\n"
     ]
    },
    {
     "data": {
      "text/plain": [
       "26"
      ]
     },
     "execution_count": 15,
     "metadata": {},
     "output_type": "execute_result"
    }
   ],
   "source": [
    "import matplotlib.image as mpimg\n",
    "import cv2\n",
    "#image1 = mpimg.imread('/test_result/train_batch2.jpg')\n",
    "#image2 = mpimg.imread('/test_result/results.jpg')\n",
    "#image3 = mpimg.imread('/test_result/val_batch0_pred.jpg')\n",
    "\n",
    "\n",
    "#fig, axes = plt.subplots(1, 3, figsize=(15,5))\n",
    "\n",
    "#axes[0].imshow(image1)\n",
    "#axes[0].set_title(\"while training.png\")\n",
    "#axes[0].axis('off')\n",
    "\n",
    "#axes[1].imshow(image2)\n",
    "#axes[1].set_title(\"results of training.png\")\n",
    "#axes[1].axis('off')\n",
    "\n",
    "\n",
    "pre_model = YOLO('yolov8n.pt')\n",
    "result = pre_model(\"D:/project/Sejongseye/YOLOv8/dataset/test/images/test1.jpg\", conf=0.5, save = True, line_thickness=1)\n",
    "img = cv2.imread(\"D:/project/Sejongseye/YOLOv8/dataset/test/images/test1.jpg\") \n",
    "for pred in result[0].boxes: \n",
    "    x1, y1, x2, y2 = map(int, pred.xyxy[0]) \n",
    "    conf = pred.conf[0] \n",
    "    label = pred.cls[0] \n",
    "    cv2.rectangle(img, (x1, y1), (x2, y2), (0, 255, 0), 2) \n",
    "    cv2.putText(img, f'{label} {conf:.2f}', (x1, y1 - 10), cv2.FONT_HERSHEY_SIMPLEX, 0.9, (0, 255, 0), 2)\n",
    "\n",
    "cv2.imshow('test', img) \n",
    "cv2.waitKey(0)\n"
   ]
  },
  {
   "cell_type": "code",
   "execution_count": 8,
   "metadata": {},
   "outputs": [],
   "source": [
    "res_plotted = result[0].plot()"
   ]
  },
  {
   "cell_type": "code",
   "execution_count": 10,
   "metadata": {},
   "outputs": [
    {
     "data": {
      "text/plain": [
       "26"
      ]
     },
     "execution_count": 10,
     "metadata": {},
     "output_type": "execute_result"
    }
   ],
   "source": [
    "cv2.imshow('test',res_plotted)\n",
    "cv2.waitKey(0)\n"
   ]
  },
  {
   "cell_type": "code",
   "execution_count": 16,
   "metadata": {},
   "outputs": [],
   "source": [
    "cv2.destroyAllWindows()"
   ]
  }
 ],
 "metadata": {
  "kernelspec": {
   "display_name": "base",
   "language": "python",
   "name": "python3"
  },
  "language_info": {
   "codemirror_mode": {
    "name": "ipython",
    "version": 3
   },
   "file_extension": ".py",
   "mimetype": "text/x-python",
   "name": "python",
   "nbconvert_exporter": "python",
   "pygments_lexer": "ipython3",
   "version": "3.12.4"
  }
 },
 "nbformat": 4,
 "nbformat_minor": 2
}
