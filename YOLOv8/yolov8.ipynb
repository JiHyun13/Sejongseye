{
 "cells": [
  {
   "cell_type": "code",
   "execution_count": 1,
   "metadata": {},
   "outputs": [],
   "source": [
    "from ultralytics import YOLO\n",
    "import os, yaml\n",
    "import pandas as pd\n",
    "import matplotlib as plt\n",
    "import matplotlib.image as mpimg\n",
    "\n",
    "os.environ['KMP_DUPLICATE_LIB_OK'] = 'TRUE'\n"
   ]
  },
  {
   "cell_type": "code",
   "execution_count": 2,
   "metadata": {},
   "outputs": [
    {
     "name": "stdout",
     "output_type": "stream",
     "text": [
      "New https://pypi.org/project/ultralytics/8.3.46 available  Update with 'pip install -U ultralytics'\n",
      "Ultralytics 8.3.7  Python-3.12.4 torch-2.4.1+cpu CPU (13th Gen Intel Core(TM) i7-13700)\n",
      "\u001b[34m\u001b[1mengine\\trainer: \u001b[0mtask=detect, mode=train, model=yolov8s.pt, data=D:/project/Sejongseye/YOLOv8/coco8.yaml, epochs=3, time=None, patience=100, batch=10, imgsz=640, save=True, save_period=-1, cache=False, device=None, workers=8, project=None, name=test_result13, exist_ok=False, pretrained=True, optimizer=AdamW, verbose=True, seed=0, deterministic=True, single_cls=False, rect=False, cos_lr=False, close_mosaic=10, resume=False, amp=True, fraction=1.0, profile=False, freeze=None, multi_scale=False, overlap_mask=True, mask_ratio=4, dropout=0.0, val=True, split=val, save_json=False, save_hybrid=False, conf=None, iou=0.7, max_det=300, half=False, dnn=False, plots=True, source=None, vid_stride=1, stream_buffer=False, visualize=False, augment=False, agnostic_nms=False, classes=None, retina_masks=False, embed=None, show=False, save_frames=False, save_txt=False, save_conf=False, save_crop=False, show_labels=True, show_conf=True, show_boxes=True, line_width=None, format=torchscript, keras=False, optimize=False, int8=False, dynamic=False, simplify=True, opset=None, workspace=4, nms=False, lr0=0.005, lrf=0.01, momentum=0.937, weight_decay=0.0005, warmup_epochs=3.0, warmup_momentum=0.8, warmup_bias_lr=0.1, box=7.5, cls=0.5, dfl=1.5, pose=12.0, kobj=1.0, label_smoothing=0.0, nbs=64, hsv_h=0.015, hsv_s=0.7, hsv_v=0.4, degrees=0.0, translate=0.1, scale=0.5, shear=0.0, perspective=0.0, flipud=0.0, fliplr=0.5, bgr=0.0, mosaic=1.0, mixup=0.0, copy_paste=0.0, copy_paste_mode=flip, auto_augment=randaugment, erasing=0.4, crop_fraction=1.0, cfg=None, tracker=botsort.yaml, save_dir=runs\\detect\\test_result13\n",
      "Overriding model.yaml nc=80 with nc=7\n",
      "\n",
      "                   from  n    params  module                                       arguments                     \n",
      "  0                  -1  1       928  ultralytics.nn.modules.conv.Conv             [3, 32, 3, 2]                 \n",
      "  1                  -1  1     18560  ultralytics.nn.modules.conv.Conv             [32, 64, 3, 2]                \n",
      "  2                  -1  1     29056  ultralytics.nn.modules.block.C2f             [64, 64, 1, True]             \n",
      "  3                  -1  1     73984  ultralytics.nn.modules.conv.Conv             [64, 128, 3, 2]               \n",
      "  4                  -1  2    197632  ultralytics.nn.modules.block.C2f             [128, 128, 2, True]           \n",
      "  5                  -1  1    295424  ultralytics.nn.modules.conv.Conv             [128, 256, 3, 2]              \n",
      "  6                  -1  2    788480  ultralytics.nn.modules.block.C2f             [256, 256, 2, True]           \n",
      "  7                  -1  1   1180672  ultralytics.nn.modules.conv.Conv             [256, 512, 3, 2]              \n",
      "  8                  -1  1   1838080  ultralytics.nn.modules.block.C2f             [512, 512, 1, True]           \n",
      "  9                  -1  1    656896  ultralytics.nn.modules.block.SPPF            [512, 512, 5]                 \n",
      " 10                  -1  1         0  torch.nn.modules.upsampling.Upsample         [None, 2, 'nearest']          \n",
      " 11             [-1, 6]  1         0  ultralytics.nn.modules.conv.Concat           [1]                           \n",
      " 12                  -1  1    591360  ultralytics.nn.modules.block.C2f             [768, 256, 1]                 \n",
      " 13                  -1  1         0  torch.nn.modules.upsampling.Upsample         [None, 2, 'nearest']          \n",
      " 14             [-1, 4]  1         0  ultralytics.nn.modules.conv.Concat           [1]                           \n",
      " 15                  -1  1    148224  ultralytics.nn.modules.block.C2f             [384, 128, 1]                 \n",
      " 16                  -1  1    147712  ultralytics.nn.modules.conv.Conv             [128, 128, 3, 2]              \n",
      " 17            [-1, 12]  1         0  ultralytics.nn.modules.conv.Concat           [1]                           \n",
      " 18                  -1  1    493056  ultralytics.nn.modules.block.C2f             [384, 256, 1]                 \n",
      " 19                  -1  1    590336  ultralytics.nn.modules.conv.Conv             [256, 256, 3, 2]              \n",
      " 20             [-1, 9]  1         0  ultralytics.nn.modules.conv.Concat           [1]                           \n",
      " 21                  -1  1   1969152  ultralytics.nn.modules.block.C2f             [768, 512, 1]                 \n",
      " 22        [15, 18, 21]  1    822117  ultralytics.nn.modules.head.Detect           [7, [128, 256, 512]]          \n",
      "Model summary: 249 layers, 9,841,669 parameters, 9,841,653 gradients, 23.6 GFLOPs\n",
      "\n",
      "Transferred 313/391 items from pretrained weights\n",
      "Freezing layer 'model.22.dfl.conv.weight'\n"
     ]
    },
    {
     "name": "stderr",
     "output_type": "stream",
     "text": [
      "\u001b[34m\u001b[1mtrain: \u001b[0mScanning D:\\project\\Sejongseye\\YOLOv8\\dataset\\train\\labels.cache... 28396 images, 0 backgrounds, 4 corrupt: 100%|██████████| 28396/28396 [00:00<?, ?it/s]"
     ]
    },
    {
     "name": "stdout",
     "output_type": "stream",
     "text": [
      "\u001b[34m\u001b[1mtrain: \u001b[0mWARNING  D:\\project\\Sejongseye\\YOLOv8\\dataset\\train\\images\\16_X002_C014_1130_0.jpg: ignoring corrupt image/label: non-normalized or out of bounds coordinates [     1.0145]\n",
      "\u001b[34m\u001b[1mtrain: \u001b[0mWARNING  D:\\project\\Sejongseye\\YOLOv8\\dataset\\train\\images\\17_X001_C172_1126_1.jpg: ignoring corrupt image/label: non-normalized or out of bounds coordinates [     1.0333]\n",
      "\u001b[34m\u001b[1mtrain: \u001b[0mWARNING  D:\\project\\Sejongseye\\YOLOv8\\dataset\\train\\images\\21_X011_C164_1013_1.jpg: 1 duplicate labels removed\n",
      "\u001b[34m\u001b[1mtrain: \u001b[0mWARNING  D:\\project\\Sejongseye\\YOLOv8\\dataset\\train\\images\\22_X015_C204_1209_1.jpg: 1 duplicate labels removed\n",
      "\u001b[34m\u001b[1mtrain: \u001b[0mWARNING  D:\\project\\Sejongseye\\YOLOv8\\dataset\\train\\images\\22_X026_C509_0512_2.jpg: ignoring corrupt image/label: non-normalized or out of bounds coordinates [     1.0056]\n",
      "\u001b[34m\u001b[1mtrain: \u001b[0mWARNING  D:\\project\\Sejongseye\\YOLOv8\\dataset\\train\\images\\23_X006_C704_1211_0.jpg: ignoring corrupt image/label: non-normalized or out of bounds coordinates [     1.0418]\n"
     ]
    },
    {
     "name": "stderr",
     "output_type": "stream",
     "text": [
      "\n",
      "\u001b[34m\u001b[1mval: \u001b[0mScanning D:\\project\\Sejongseye\\YOLOv8\\dataset\\valid\\labels.cache... 7245 images, 0 backgrounds, 1 corrupt: 100%|██████████| 7245/7245 [00:00<?, ?it/s]"
     ]
    },
    {
     "name": "stdout",
     "output_type": "stream",
     "text": [
      "\u001b[34m\u001b[1mval: \u001b[0mWARNING  D:\\project\\Sejongseye\\YOLOv8\\dataset\\valid\\images\\15_X004_C509_0511_0.jpg: ignoring corrupt image/label: non-normalized or out of bounds coordinates [     1.1472]\n"
     ]
    },
    {
     "name": "stderr",
     "output_type": "stream",
     "text": [
      "\n"
     ]
    },
    {
     "name": "stdout",
     "output_type": "stream",
     "text": [
      "Plotting labels to runs\\detect\\test_result13\\labels.jpg... \n"
     ]
    },
    {
     "name": "stderr",
     "output_type": "stream",
     "text": [
      "c:\\Users\\User\\anaconda3\\Lib\\site-packages\\ultralytics\\utils\\plotting.py:915: UserWarning: Glyph 48708 (\\N{HANGUL SYLLABLE BI}) missing from font(s) DejaVu Sans.\n",
      "  plt.savefig(fname, dpi=200)\n",
      "c:\\Users\\User\\anaconda3\\Lib\\site-packages\\ultralytics\\utils\\plotting.py:915: UserWarning: Glyph 45776 (\\N{HANGUL SYLLABLE NIL}) missing from font(s) DejaVu Sans.\n",
      "  plt.savefig(fname, dpi=200)\n",
      "c:\\Users\\User\\anaconda3\\Lib\\site-packages\\ultralytics\\utils\\plotting.py:915: UserWarning: Glyph 47448 (\\N{HANGUL SYLLABLE RYU}) missing from font(s) DejaVu Sans.\n",
      "  plt.savefig(fname, dpi=200)\n",
      "c:\\Users\\User\\anaconda3\\Lib\\site-packages\\ultralytics\\utils\\plotting.py:915: UserWarning: Glyph 49828 (\\N{HANGUL SYLLABLE SEU}) missing from font(s) DejaVu Sans.\n",
      "  plt.savefig(fname, dpi=200)\n",
      "c:\\Users\\User\\anaconda3\\Lib\\site-packages\\ultralytics\\utils\\plotting.py:915: UserWarning: Glyph 54000 (\\N{HANGUL SYLLABLE TI}) missing from font(s) DejaVu Sans.\n",
      "  plt.savefig(fname, dpi=200)\n",
      "c:\\Users\\User\\anaconda3\\Lib\\site-packages\\ultralytics\\utils\\plotting.py:915: UserWarning: Glyph 47196 (\\N{HANGUL SYLLABLE RO}) missing from font(s) DejaVu Sans.\n",
      "  plt.savefig(fname, dpi=200)\n",
      "c:\\Users\\User\\anaconda3\\Lib\\site-packages\\ultralytics\\utils\\plotting.py:915: UserWarning: Glyph 54268 (\\N{HANGUL SYLLABLE POM}) missing from font(s) DejaVu Sans.\n",
      "  plt.savefig(fname, dpi=200)\n",
      "c:\\Users\\User\\anaconda3\\Lib\\site-packages\\ultralytics\\utils\\plotting.py:915: UserWarning: Glyph 50976 (\\N{HANGUL SYLLABLE YU}) missing from font(s) DejaVu Sans.\n",
      "  plt.savefig(fname, dpi=200)\n",
      "c:\\Users\\User\\anaconda3\\Lib\\site-packages\\ultralytics\\utils\\plotting.py:915: UserWarning: Glyph 47532 (\\N{HANGUL SYLLABLE RI}) missing from font(s) DejaVu Sans.\n",
      "  plt.savefig(fname, dpi=200)\n",
      "c:\\Users\\User\\anaconda3\\Lib\\site-packages\\ultralytics\\utils\\plotting.py:915: UserWarning: Glyph 48337 (\\N{HANGUL SYLLABLE BYEONG}) missing from font(s) DejaVu Sans.\n",
      "  plt.savefig(fname, dpi=200)\n",
      "c:\\Users\\User\\anaconda3\\Lib\\site-packages\\ultralytics\\utils\\plotting.py:915: UserWarning: Glyph 51333 (\\N{HANGUL SYLLABLE JONG}) missing from font(s) DejaVu Sans.\n",
      "  plt.savefig(fname, dpi=200)\n",
      "c:\\Users\\User\\anaconda3\\Lib\\site-packages\\ultralytics\\utils\\plotting.py:915: UserWarning: Glyph 51060 (\\N{HANGUL SYLLABLE I}) missing from font(s) DejaVu Sans.\n",
      "  plt.savefig(fname, dpi=200)\n",
      "c:\\Users\\User\\anaconda3\\Lib\\site-packages\\ultralytics\\utils\\plotting.py:915: UserWarning: Glyph 52884 (\\N{HANGUL SYLLABLE KAEN}) missing from font(s) DejaVu Sans.\n",
      "  plt.savefig(fname, dpi=200)\n",
      "c:\\Users\\User\\anaconda3\\Lib\\site-packages\\ultralytics\\utils\\plotting.py:915: UserWarning: Glyph 54168 (\\N{HANGUL SYLLABLE PE}) missing from font(s) DejaVu Sans.\n",
      "  plt.savefig(fname, dpi=200)\n",
      "c:\\Users\\User\\anaconda3\\Lib\\site-packages\\ultralytics\\utils\\plotting.py:915: UserWarning: Glyph 53944 (\\N{HANGUL SYLLABLE TEU}) missing from font(s) DejaVu Sans.\n",
      "  plt.savefig(fname, dpi=200)\n",
      "c:\\Users\\User\\anaconda3\\Lib\\site-packages\\ultralytics\\utils\\plotting.py:915: UserWarning: Glyph 54540 (\\N{HANGUL SYLLABLE PEUL}) missing from font(s) DejaVu Sans.\n",
      "  plt.savefig(fname, dpi=200)\n",
      "c:\\Users\\User\\anaconda3\\Lib\\site-packages\\ultralytics\\utils\\plotting.py:915: UserWarning: Glyph 46972 (\\N{HANGUL SYLLABLE RA}) missing from font(s) DejaVu Sans.\n",
      "  plt.savefig(fname, dpi=200)\n",
      "c:\\Users\\User\\anaconda3\\Lib\\site-packages\\ultralytics\\utils\\plotting.py:915: UserWarning: Glyph 54001 (\\N{HANGUL SYLLABLE TIG}) missing from font(s) DejaVu Sans.\n",
      "  plt.savefig(fname, dpi=200)\n",
      "c:\\Users\\User\\anaconda3\\Lib\\site-packages\\ultralytics\\utils\\plotting.py:915: UserWarning: Glyph 48708 (\\N{HANGUL SYLLABLE BI}) missing from font(s) DejaVu Sans.\n",
      "  plt.savefig(fname, dpi=200)\n",
      "c:\\Users\\User\\anaconda3\\Lib\\site-packages\\ultralytics\\utils\\plotting.py:915: UserWarning: Glyph 45776 (\\N{HANGUL SYLLABLE NIL}) missing from font(s) DejaVu Sans.\n",
      "  plt.savefig(fname, dpi=200)\n",
      "c:\\Users\\User\\anaconda3\\Lib\\site-packages\\ultralytics\\utils\\plotting.py:915: UserWarning: Glyph 47448 (\\N{HANGUL SYLLABLE RYU}) missing from font(s) DejaVu Sans.\n",
      "  plt.savefig(fname, dpi=200)\n",
      "c:\\Users\\User\\anaconda3\\Lib\\site-packages\\ultralytics\\utils\\plotting.py:915: UserWarning: Glyph 49828 (\\N{HANGUL SYLLABLE SEU}) missing from font(s) DejaVu Sans.\n",
      "  plt.savefig(fname, dpi=200)\n",
      "c:\\Users\\User\\anaconda3\\Lib\\site-packages\\ultralytics\\utils\\plotting.py:915: UserWarning: Glyph 54000 (\\N{HANGUL SYLLABLE TI}) missing from font(s) DejaVu Sans.\n",
      "  plt.savefig(fname, dpi=200)\n",
      "c:\\Users\\User\\anaconda3\\Lib\\site-packages\\ultralytics\\utils\\plotting.py:915: UserWarning: Glyph 47196 (\\N{HANGUL SYLLABLE RO}) missing from font(s) DejaVu Sans.\n",
      "  plt.savefig(fname, dpi=200)\n",
      "c:\\Users\\User\\anaconda3\\Lib\\site-packages\\ultralytics\\utils\\plotting.py:915: UserWarning: Glyph 54268 (\\N{HANGUL SYLLABLE POM}) missing from font(s) DejaVu Sans.\n",
      "  plt.savefig(fname, dpi=200)\n",
      "c:\\Users\\User\\anaconda3\\Lib\\site-packages\\ultralytics\\utils\\plotting.py:915: UserWarning: Glyph 50976 (\\N{HANGUL SYLLABLE YU}) missing from font(s) DejaVu Sans.\n",
      "  plt.savefig(fname, dpi=200)\n",
      "c:\\Users\\User\\anaconda3\\Lib\\site-packages\\ultralytics\\utils\\plotting.py:915: UserWarning: Glyph 47532 (\\N{HANGUL SYLLABLE RI}) missing from font(s) DejaVu Sans.\n",
      "  plt.savefig(fname, dpi=200)\n",
      "c:\\Users\\User\\anaconda3\\Lib\\site-packages\\ultralytics\\utils\\plotting.py:915: UserWarning: Glyph 48337 (\\N{HANGUL SYLLABLE BYEONG}) missing from font(s) DejaVu Sans.\n",
      "  plt.savefig(fname, dpi=200)\n",
      "c:\\Users\\User\\anaconda3\\Lib\\site-packages\\ultralytics\\utils\\plotting.py:915: UserWarning: Glyph 51333 (\\N{HANGUL SYLLABLE JONG}) missing from font(s) DejaVu Sans.\n",
      "  plt.savefig(fname, dpi=200)\n",
      "c:\\Users\\User\\anaconda3\\Lib\\site-packages\\ultralytics\\utils\\plotting.py:915: UserWarning: Glyph 51060 (\\N{HANGUL SYLLABLE I}) missing from font(s) DejaVu Sans.\n",
      "  plt.savefig(fname, dpi=200)\n",
      "c:\\Users\\User\\anaconda3\\Lib\\site-packages\\ultralytics\\utils\\plotting.py:915: UserWarning: Glyph 52884 (\\N{HANGUL SYLLABLE KAEN}) missing from font(s) DejaVu Sans.\n",
      "  plt.savefig(fname, dpi=200)\n",
      "c:\\Users\\User\\anaconda3\\Lib\\site-packages\\ultralytics\\utils\\plotting.py:915: UserWarning: Glyph 54168 (\\N{HANGUL SYLLABLE PE}) missing from font(s) DejaVu Sans.\n",
      "  plt.savefig(fname, dpi=200)\n",
      "c:\\Users\\User\\anaconda3\\Lib\\site-packages\\ultralytics\\utils\\plotting.py:915: UserWarning: Glyph 53944 (\\N{HANGUL SYLLABLE TEU}) missing from font(s) DejaVu Sans.\n",
      "  plt.savefig(fname, dpi=200)\n",
      "c:\\Users\\User\\anaconda3\\Lib\\site-packages\\ultralytics\\utils\\plotting.py:915: UserWarning: Glyph 54540 (\\N{HANGUL SYLLABLE PEUL}) missing from font(s) DejaVu Sans.\n",
      "  plt.savefig(fname, dpi=200)\n",
      "c:\\Users\\User\\anaconda3\\Lib\\site-packages\\ultralytics\\utils\\plotting.py:915: UserWarning: Glyph 46972 (\\N{HANGUL SYLLABLE RA}) missing from font(s) DejaVu Sans.\n",
      "  plt.savefig(fname, dpi=200)\n",
      "c:\\Users\\User\\anaconda3\\Lib\\site-packages\\ultralytics\\utils\\plotting.py:915: UserWarning: Glyph 54001 (\\N{HANGUL SYLLABLE TIG}) missing from font(s) DejaVu Sans.\n",
      "  plt.savefig(fname, dpi=200)\n"
     ]
    },
    {
     "name": "stdout",
     "output_type": "stream",
     "text": [
      "\u001b[34m\u001b[1moptimizer:\u001b[0m AdamW(lr=0.005, momentum=0.937) with parameter groups 63 weight(decay=0.0), 70 weight(decay=0.00046875), 69 bias(decay=0.0)\n",
      "Image sizes 640 train, 640 val\n",
      "Using 0 dataloader workers\n",
      "Logging results to \u001b[1mruns\\detect\\test_result13\u001b[0m\n",
      "Starting training for 3 epochs...\n",
      "\n",
      "      Epoch    GPU_mem   box_loss   cls_loss   dfl_loss  Instances       Size\n"
     ]
    },
    {
     "name": "stderr",
     "output_type": "stream",
     "text": [
      "        1/3         0G     0.8035      1.518      1.084          5        640: 100%|██████████| 2840/2840 [1:57:19<00:00,  2.48s/it]  \n",
      "                 Class     Images  Instances      Box(P          R      mAP50  mAP50-95): 100%|██████████| 363/363 [08:52<00:00,  1.47s/it]\n"
     ]
    },
    {
     "name": "stdout",
     "output_type": "stream",
     "text": [
      "                   all       7244       7613      0.379      0.567      0.427      0.357\n",
      "\n",
      "      Epoch    GPU_mem   box_loss   cls_loss   dfl_loss  Instances       Size\n"
     ]
    },
    {
     "name": "stderr",
     "output_type": "stream",
     "text": [
      "        2/3         0G     0.6904       1.17      1.027          4        640: 100%|██████████| 2840/2840 [1:40:20<00:00,  2.12s/it]\n",
      "                 Class     Images  Instances      Box(P          R      mAP50  mAP50-95): 100%|██████████| 363/363 [07:05<00:00,  1.17s/it]\n"
     ]
    },
    {
     "name": "stdout",
     "output_type": "stream",
     "text": [
      "                   all       7244       7613      0.766      0.761      0.837       0.75\n",
      "\n",
      "      Epoch    GPU_mem   box_loss   cls_loss   dfl_loss  Instances       Size\n"
     ]
    },
    {
     "name": "stderr",
     "output_type": "stream",
     "text": [
      "        3/3         0G     0.5957     0.9375     0.9872          3        640: 100%|██████████| 2840/2840 [1:39:04<00:00,  2.09s/it]\n",
      "                 Class     Images  Instances      Box(P          R      mAP50  mAP50-95): 100%|██████████| 363/363 [07:01<00:00,  1.16s/it]\n"
     ]
    },
    {
     "name": "stdout",
     "output_type": "stream",
     "text": [
      "                   all       7244       7613      0.838      0.818      0.898      0.825\n",
      "\n",
      "3 epochs completed in 5.663 hours.\n",
      "Optimizer stripped from runs\\detect\\test_result13\\weights\\last.pt, 19.9MB\n",
      "Optimizer stripped from runs\\detect\\test_result13\\weights\\best.pt, 19.9MB\n",
      "\n",
      "Validating runs\\detect\\test_result13\\weights\\best.pt...\n",
      "Ultralytics 8.3.7  Python-3.12.4 torch-2.4.1+cpu CPU (13th Gen Intel Core(TM) i7-13700)\n",
      "Model summary (fused): 186 layers, 9,830,373 parameters, 0 gradients, 23.4 GFLOPs\n"
     ]
    },
    {
     "name": "stderr",
     "output_type": "stream",
     "text": [
      "                 Class     Images  Instances      Box(P          R      mAP50  mAP50-95): 100%|██████████| 363/363 [06:18<00:00,  1.04s/it]\n",
      "c:\\Users\\User\\anaconda3\\Lib\\site-packages\\ultralytics\\utils\\metrics.py:470: UserWarning: Glyph 48708 (\\N{HANGUL SYLLABLE BI}) missing from font(s) DejaVu Sans.\n",
      "  fig.savefig(save_dir, dpi=250)\n",
      "c:\\Users\\User\\anaconda3\\Lib\\site-packages\\ultralytics\\utils\\metrics.py:470: UserWarning: Glyph 45776 (\\N{HANGUL SYLLABLE NIL}) missing from font(s) DejaVu Sans.\n",
      "  fig.savefig(save_dir, dpi=250)\n",
      "c:\\Users\\User\\anaconda3\\Lib\\site-packages\\ultralytics\\utils\\metrics.py:470: UserWarning: Glyph 47448 (\\N{HANGUL SYLLABLE RYU}) missing from font(s) DejaVu Sans.\n",
      "  fig.savefig(save_dir, dpi=250)\n",
      "c:\\Users\\User\\anaconda3\\Lib\\site-packages\\ultralytics\\utils\\metrics.py:470: UserWarning: Glyph 49828 (\\N{HANGUL SYLLABLE SEU}) missing from font(s) DejaVu Sans.\n",
      "  fig.savefig(save_dir, dpi=250)\n",
      "c:\\Users\\User\\anaconda3\\Lib\\site-packages\\ultralytics\\utils\\metrics.py:470: UserWarning: Glyph 54000 (\\N{HANGUL SYLLABLE TI}) missing from font(s) DejaVu Sans.\n",
      "  fig.savefig(save_dir, dpi=250)\n",
      "c:\\Users\\User\\anaconda3\\Lib\\site-packages\\ultralytics\\utils\\metrics.py:470: UserWarning: Glyph 47196 (\\N{HANGUL SYLLABLE RO}) missing from font(s) DejaVu Sans.\n",
      "  fig.savefig(save_dir, dpi=250)\n",
      "c:\\Users\\User\\anaconda3\\Lib\\site-packages\\ultralytics\\utils\\metrics.py:470: UserWarning: Glyph 54268 (\\N{HANGUL SYLLABLE POM}) missing from font(s) DejaVu Sans.\n",
      "  fig.savefig(save_dir, dpi=250)\n",
      "c:\\Users\\User\\anaconda3\\Lib\\site-packages\\ultralytics\\utils\\metrics.py:470: UserWarning: Glyph 50976 (\\N{HANGUL SYLLABLE YU}) missing from font(s) DejaVu Sans.\n",
      "  fig.savefig(save_dir, dpi=250)\n",
      "c:\\Users\\User\\anaconda3\\Lib\\site-packages\\ultralytics\\utils\\metrics.py:470: UserWarning: Glyph 47532 (\\N{HANGUL SYLLABLE RI}) missing from font(s) DejaVu Sans.\n",
      "  fig.savefig(save_dir, dpi=250)\n",
      "c:\\Users\\User\\anaconda3\\Lib\\site-packages\\ultralytics\\utils\\metrics.py:470: UserWarning: Glyph 48337 (\\N{HANGUL SYLLABLE BYEONG}) missing from font(s) DejaVu Sans.\n",
      "  fig.savefig(save_dir, dpi=250)\n",
      "c:\\Users\\User\\anaconda3\\Lib\\site-packages\\ultralytics\\utils\\metrics.py:470: UserWarning: Glyph 51333 (\\N{HANGUL SYLLABLE JONG}) missing from font(s) DejaVu Sans.\n",
      "  fig.savefig(save_dir, dpi=250)\n",
      "c:\\Users\\User\\anaconda3\\Lib\\site-packages\\ultralytics\\utils\\metrics.py:470: UserWarning: Glyph 51060 (\\N{HANGUL SYLLABLE I}) missing from font(s) DejaVu Sans.\n",
      "  fig.savefig(save_dir, dpi=250)\n",
      "c:\\Users\\User\\anaconda3\\Lib\\site-packages\\ultralytics\\utils\\metrics.py:470: UserWarning: Glyph 52884 (\\N{HANGUL SYLLABLE KAEN}) missing from font(s) DejaVu Sans.\n",
      "  fig.savefig(save_dir, dpi=250)\n",
      "c:\\Users\\User\\anaconda3\\Lib\\site-packages\\ultralytics\\utils\\metrics.py:470: UserWarning: Glyph 54168 (\\N{HANGUL SYLLABLE PE}) missing from font(s) DejaVu Sans.\n",
      "  fig.savefig(save_dir, dpi=250)\n",
      "c:\\Users\\User\\anaconda3\\Lib\\site-packages\\ultralytics\\utils\\metrics.py:470: UserWarning: Glyph 53944 (\\N{HANGUL SYLLABLE TEU}) missing from font(s) DejaVu Sans.\n",
      "  fig.savefig(save_dir, dpi=250)\n",
      "c:\\Users\\User\\anaconda3\\Lib\\site-packages\\ultralytics\\utils\\metrics.py:470: UserWarning: Glyph 54540 (\\N{HANGUL SYLLABLE PEUL}) missing from font(s) DejaVu Sans.\n",
      "  fig.savefig(save_dir, dpi=250)\n",
      "c:\\Users\\User\\anaconda3\\Lib\\site-packages\\ultralytics\\utils\\metrics.py:470: UserWarning: Glyph 46972 (\\N{HANGUL SYLLABLE RA}) missing from font(s) DejaVu Sans.\n",
      "  fig.savefig(save_dir, dpi=250)\n",
      "c:\\Users\\User\\anaconda3\\Lib\\site-packages\\ultralytics\\utils\\metrics.py:470: UserWarning: Glyph 54001 (\\N{HANGUL SYLLABLE TIG}) missing from font(s) DejaVu Sans.\n",
      "  fig.savefig(save_dir, dpi=250)\n",
      "c:\\Users\\User\\anaconda3\\Lib\\site-packages\\ultralytics\\utils\\metrics.py:495: UserWarning: Glyph 48708 (\\N{HANGUL SYLLABLE BI}) missing from font(s) DejaVu Sans.\n",
      "  fig.savefig(save_dir, dpi=250)\n",
      "c:\\Users\\User\\anaconda3\\Lib\\site-packages\\ultralytics\\utils\\metrics.py:495: UserWarning: Glyph 45776 (\\N{HANGUL SYLLABLE NIL}) missing from font(s) DejaVu Sans.\n",
      "  fig.savefig(save_dir, dpi=250)\n",
      "c:\\Users\\User\\anaconda3\\Lib\\site-packages\\ultralytics\\utils\\metrics.py:495: UserWarning: Glyph 47448 (\\N{HANGUL SYLLABLE RYU}) missing from font(s) DejaVu Sans.\n",
      "  fig.savefig(save_dir, dpi=250)\n",
      "c:\\Users\\User\\anaconda3\\Lib\\site-packages\\ultralytics\\utils\\metrics.py:495: UserWarning: Glyph 49828 (\\N{HANGUL SYLLABLE SEU}) missing from font(s) DejaVu Sans.\n",
      "  fig.savefig(save_dir, dpi=250)\n",
      "c:\\Users\\User\\anaconda3\\Lib\\site-packages\\ultralytics\\utils\\metrics.py:495: UserWarning: Glyph 54000 (\\N{HANGUL SYLLABLE TI}) missing from font(s) DejaVu Sans.\n",
      "  fig.savefig(save_dir, dpi=250)\n",
      "c:\\Users\\User\\anaconda3\\Lib\\site-packages\\ultralytics\\utils\\metrics.py:495: UserWarning: Glyph 47196 (\\N{HANGUL SYLLABLE RO}) missing from font(s) DejaVu Sans.\n",
      "  fig.savefig(save_dir, dpi=250)\n",
      "c:\\Users\\User\\anaconda3\\Lib\\site-packages\\ultralytics\\utils\\metrics.py:495: UserWarning: Glyph 54268 (\\N{HANGUL SYLLABLE POM}) missing from font(s) DejaVu Sans.\n",
      "  fig.savefig(save_dir, dpi=250)\n",
      "c:\\Users\\User\\anaconda3\\Lib\\site-packages\\ultralytics\\utils\\metrics.py:495: UserWarning: Glyph 50976 (\\N{HANGUL SYLLABLE YU}) missing from font(s) DejaVu Sans.\n",
      "  fig.savefig(save_dir, dpi=250)\n",
      "c:\\Users\\User\\anaconda3\\Lib\\site-packages\\ultralytics\\utils\\metrics.py:495: UserWarning: Glyph 47532 (\\N{HANGUL SYLLABLE RI}) missing from font(s) DejaVu Sans.\n",
      "  fig.savefig(save_dir, dpi=250)\n",
      "c:\\Users\\User\\anaconda3\\Lib\\site-packages\\ultralytics\\utils\\metrics.py:495: UserWarning: Glyph 48337 (\\N{HANGUL SYLLABLE BYEONG}) missing from font(s) DejaVu Sans.\n",
      "  fig.savefig(save_dir, dpi=250)\n",
      "c:\\Users\\User\\anaconda3\\Lib\\site-packages\\ultralytics\\utils\\metrics.py:495: UserWarning: Glyph 51333 (\\N{HANGUL SYLLABLE JONG}) missing from font(s) DejaVu Sans.\n",
      "  fig.savefig(save_dir, dpi=250)\n",
      "c:\\Users\\User\\anaconda3\\Lib\\site-packages\\ultralytics\\utils\\metrics.py:495: UserWarning: Glyph 51060 (\\N{HANGUL SYLLABLE I}) missing from font(s) DejaVu Sans.\n",
      "  fig.savefig(save_dir, dpi=250)\n",
      "c:\\Users\\User\\anaconda3\\Lib\\site-packages\\ultralytics\\utils\\metrics.py:495: UserWarning: Glyph 52884 (\\N{HANGUL SYLLABLE KAEN}) missing from font(s) DejaVu Sans.\n",
      "  fig.savefig(save_dir, dpi=250)\n",
      "c:\\Users\\User\\anaconda3\\Lib\\site-packages\\ultralytics\\utils\\metrics.py:495: UserWarning: Glyph 54168 (\\N{HANGUL SYLLABLE PE}) missing from font(s) DejaVu Sans.\n",
      "  fig.savefig(save_dir, dpi=250)\n",
      "c:\\Users\\User\\anaconda3\\Lib\\site-packages\\ultralytics\\utils\\metrics.py:495: UserWarning: Glyph 53944 (\\N{HANGUL SYLLABLE TEU}) missing from font(s) DejaVu Sans.\n",
      "  fig.savefig(save_dir, dpi=250)\n",
      "c:\\Users\\User\\anaconda3\\Lib\\site-packages\\ultralytics\\utils\\metrics.py:495: UserWarning: Glyph 54540 (\\N{HANGUL SYLLABLE PEUL}) missing from font(s) DejaVu Sans.\n",
      "  fig.savefig(save_dir, dpi=250)\n",
      "c:\\Users\\User\\anaconda3\\Lib\\site-packages\\ultralytics\\utils\\metrics.py:495: UserWarning: Glyph 46972 (\\N{HANGUL SYLLABLE RA}) missing from font(s) DejaVu Sans.\n",
      "  fig.savefig(save_dir, dpi=250)\n",
      "c:\\Users\\User\\anaconda3\\Lib\\site-packages\\ultralytics\\utils\\metrics.py:495: UserWarning: Glyph 54001 (\\N{HANGUL SYLLABLE TIG}) missing from font(s) DejaVu Sans.\n",
      "  fig.savefig(save_dir, dpi=250)\n",
      "c:\\Users\\User\\anaconda3\\Lib\\site-packages\\ultralytics\\utils\\metrics.py:495: UserWarning: Glyph 48708 (\\N{HANGUL SYLLABLE BI}) missing from font(s) DejaVu Sans.\n",
      "  fig.savefig(save_dir, dpi=250)\n",
      "c:\\Users\\User\\anaconda3\\Lib\\site-packages\\ultralytics\\utils\\metrics.py:495: UserWarning: Glyph 45776 (\\N{HANGUL SYLLABLE NIL}) missing from font(s) DejaVu Sans.\n",
      "  fig.savefig(save_dir, dpi=250)\n",
      "c:\\Users\\User\\anaconda3\\Lib\\site-packages\\ultralytics\\utils\\metrics.py:495: UserWarning: Glyph 47448 (\\N{HANGUL SYLLABLE RYU}) missing from font(s) DejaVu Sans.\n",
      "  fig.savefig(save_dir, dpi=250)\n",
      "c:\\Users\\User\\anaconda3\\Lib\\site-packages\\ultralytics\\utils\\metrics.py:495: UserWarning: Glyph 49828 (\\N{HANGUL SYLLABLE SEU}) missing from font(s) DejaVu Sans.\n",
      "  fig.savefig(save_dir, dpi=250)\n",
      "c:\\Users\\User\\anaconda3\\Lib\\site-packages\\ultralytics\\utils\\metrics.py:495: UserWarning: Glyph 54000 (\\N{HANGUL SYLLABLE TI}) missing from font(s) DejaVu Sans.\n",
      "  fig.savefig(save_dir, dpi=250)\n",
      "c:\\Users\\User\\anaconda3\\Lib\\site-packages\\ultralytics\\utils\\metrics.py:495: UserWarning: Glyph 47196 (\\N{HANGUL SYLLABLE RO}) missing from font(s) DejaVu Sans.\n",
      "  fig.savefig(save_dir, dpi=250)\n",
      "c:\\Users\\User\\anaconda3\\Lib\\site-packages\\ultralytics\\utils\\metrics.py:495: UserWarning: Glyph 54268 (\\N{HANGUL SYLLABLE POM}) missing from font(s) DejaVu Sans.\n",
      "  fig.savefig(save_dir, dpi=250)\n",
      "c:\\Users\\User\\anaconda3\\Lib\\site-packages\\ultralytics\\utils\\metrics.py:495: UserWarning: Glyph 50976 (\\N{HANGUL SYLLABLE YU}) missing from font(s) DejaVu Sans.\n",
      "  fig.savefig(save_dir, dpi=250)\n",
      "c:\\Users\\User\\anaconda3\\Lib\\site-packages\\ultralytics\\utils\\metrics.py:495: UserWarning: Glyph 47532 (\\N{HANGUL SYLLABLE RI}) missing from font(s) DejaVu Sans.\n",
      "  fig.savefig(save_dir, dpi=250)\n",
      "c:\\Users\\User\\anaconda3\\Lib\\site-packages\\ultralytics\\utils\\metrics.py:495: UserWarning: Glyph 48337 (\\N{HANGUL SYLLABLE BYEONG}) missing from font(s) DejaVu Sans.\n",
      "  fig.savefig(save_dir, dpi=250)\n",
      "c:\\Users\\User\\anaconda3\\Lib\\site-packages\\ultralytics\\utils\\metrics.py:495: UserWarning: Glyph 51333 (\\N{HANGUL SYLLABLE JONG}) missing from font(s) DejaVu Sans.\n",
      "  fig.savefig(save_dir, dpi=250)\n",
      "c:\\Users\\User\\anaconda3\\Lib\\site-packages\\ultralytics\\utils\\metrics.py:495: UserWarning: Glyph 51060 (\\N{HANGUL SYLLABLE I}) missing from font(s) DejaVu Sans.\n",
      "  fig.savefig(save_dir, dpi=250)\n",
      "c:\\Users\\User\\anaconda3\\Lib\\site-packages\\ultralytics\\utils\\metrics.py:495: UserWarning: Glyph 52884 (\\N{HANGUL SYLLABLE KAEN}) missing from font(s) DejaVu Sans.\n",
      "  fig.savefig(save_dir, dpi=250)\n",
      "c:\\Users\\User\\anaconda3\\Lib\\site-packages\\ultralytics\\utils\\metrics.py:495: UserWarning: Glyph 54168 (\\N{HANGUL SYLLABLE PE}) missing from font(s) DejaVu Sans.\n",
      "  fig.savefig(save_dir, dpi=250)\n",
      "c:\\Users\\User\\anaconda3\\Lib\\site-packages\\ultralytics\\utils\\metrics.py:495: UserWarning: Glyph 53944 (\\N{HANGUL SYLLABLE TEU}) missing from font(s) DejaVu Sans.\n",
      "  fig.savefig(save_dir, dpi=250)\n",
      "c:\\Users\\User\\anaconda3\\Lib\\site-packages\\ultralytics\\utils\\metrics.py:495: UserWarning: Glyph 54540 (\\N{HANGUL SYLLABLE PEUL}) missing from font(s) DejaVu Sans.\n",
      "  fig.savefig(save_dir, dpi=250)\n",
      "c:\\Users\\User\\anaconda3\\Lib\\site-packages\\ultralytics\\utils\\metrics.py:495: UserWarning: Glyph 46972 (\\N{HANGUL SYLLABLE RA}) missing from font(s) DejaVu Sans.\n",
      "  fig.savefig(save_dir, dpi=250)\n",
      "c:\\Users\\User\\anaconda3\\Lib\\site-packages\\ultralytics\\utils\\metrics.py:495: UserWarning: Glyph 54001 (\\N{HANGUL SYLLABLE TIG}) missing from font(s) DejaVu Sans.\n",
      "  fig.savefig(save_dir, dpi=250)\n"
     ]
    },
    {
     "name": "stdout",
     "output_type": "stream",
     "text": [
      "                   all       7244       7613      0.838      0.817      0.898      0.825\n"
     ]
    },
    {
     "name": "stderr",
     "output_type": "stream",
     "text": [
      "c:\\Users\\User\\anaconda3\\Lib\\site-packages\\ultralytics\\utils\\metrics.py:495: UserWarning: Glyph 48708 (\\N{HANGUL SYLLABLE BI}) missing from font(s) DejaVu Sans.\n",
      "  fig.savefig(save_dir, dpi=250)\n",
      "c:\\Users\\User\\anaconda3\\Lib\\site-packages\\ultralytics\\utils\\metrics.py:495: UserWarning: Glyph 45776 (\\N{HANGUL SYLLABLE NIL}) missing from font(s) DejaVu Sans.\n",
      "  fig.savefig(save_dir, dpi=250)\n",
      "c:\\Users\\User\\anaconda3\\Lib\\site-packages\\ultralytics\\utils\\metrics.py:495: UserWarning: Glyph 47448 (\\N{HANGUL SYLLABLE RYU}) missing from font(s) DejaVu Sans.\n",
      "  fig.savefig(save_dir, dpi=250)\n",
      "c:\\Users\\User\\anaconda3\\Lib\\site-packages\\ultralytics\\utils\\metrics.py:495: UserWarning: Glyph 49828 (\\N{HANGUL SYLLABLE SEU}) missing from font(s) DejaVu Sans.\n",
      "  fig.savefig(save_dir, dpi=250)\n",
      "c:\\Users\\User\\anaconda3\\Lib\\site-packages\\ultralytics\\utils\\metrics.py:495: UserWarning: Glyph 54000 (\\N{HANGUL SYLLABLE TI}) missing from font(s) DejaVu Sans.\n",
      "  fig.savefig(save_dir, dpi=250)\n",
      "c:\\Users\\User\\anaconda3\\Lib\\site-packages\\ultralytics\\utils\\metrics.py:495: UserWarning: Glyph 47196 (\\N{HANGUL SYLLABLE RO}) missing from font(s) DejaVu Sans.\n",
      "  fig.savefig(save_dir, dpi=250)\n",
      "c:\\Users\\User\\anaconda3\\Lib\\site-packages\\ultralytics\\utils\\metrics.py:495: UserWarning: Glyph 54268 (\\N{HANGUL SYLLABLE POM}) missing from font(s) DejaVu Sans.\n",
      "  fig.savefig(save_dir, dpi=250)\n",
      "c:\\Users\\User\\anaconda3\\Lib\\site-packages\\ultralytics\\utils\\metrics.py:495: UserWarning: Glyph 50976 (\\N{HANGUL SYLLABLE YU}) missing from font(s) DejaVu Sans.\n",
      "  fig.savefig(save_dir, dpi=250)\n",
      "c:\\Users\\User\\anaconda3\\Lib\\site-packages\\ultralytics\\utils\\metrics.py:495: UserWarning: Glyph 47532 (\\N{HANGUL SYLLABLE RI}) missing from font(s) DejaVu Sans.\n",
      "  fig.savefig(save_dir, dpi=250)\n",
      "c:\\Users\\User\\anaconda3\\Lib\\site-packages\\ultralytics\\utils\\metrics.py:495: UserWarning: Glyph 48337 (\\N{HANGUL SYLLABLE BYEONG}) missing from font(s) DejaVu Sans.\n",
      "  fig.savefig(save_dir, dpi=250)\n",
      "c:\\Users\\User\\anaconda3\\Lib\\site-packages\\ultralytics\\utils\\metrics.py:495: UserWarning: Glyph 51333 (\\N{HANGUL SYLLABLE JONG}) missing from font(s) DejaVu Sans.\n",
      "  fig.savefig(save_dir, dpi=250)\n",
      "c:\\Users\\User\\anaconda3\\Lib\\site-packages\\ultralytics\\utils\\metrics.py:495: UserWarning: Glyph 51060 (\\N{HANGUL SYLLABLE I}) missing from font(s) DejaVu Sans.\n",
      "  fig.savefig(save_dir, dpi=250)\n",
      "c:\\Users\\User\\anaconda3\\Lib\\site-packages\\ultralytics\\utils\\metrics.py:495: UserWarning: Glyph 52884 (\\N{HANGUL SYLLABLE KAEN}) missing from font(s) DejaVu Sans.\n",
      "  fig.savefig(save_dir, dpi=250)\n",
      "c:\\Users\\User\\anaconda3\\Lib\\site-packages\\ultralytics\\utils\\metrics.py:495: UserWarning: Glyph 54168 (\\N{HANGUL SYLLABLE PE}) missing from font(s) DejaVu Sans.\n",
      "  fig.savefig(save_dir, dpi=250)\n",
      "c:\\Users\\User\\anaconda3\\Lib\\site-packages\\ultralytics\\utils\\metrics.py:495: UserWarning: Glyph 53944 (\\N{HANGUL SYLLABLE TEU}) missing from font(s) DejaVu Sans.\n",
      "  fig.savefig(save_dir, dpi=250)\n",
      "c:\\Users\\User\\anaconda3\\Lib\\site-packages\\ultralytics\\utils\\metrics.py:495: UserWarning: Glyph 54540 (\\N{HANGUL SYLLABLE PEUL}) missing from font(s) DejaVu Sans.\n",
      "  fig.savefig(save_dir, dpi=250)\n",
      "c:\\Users\\User\\anaconda3\\Lib\\site-packages\\ultralytics\\utils\\metrics.py:495: UserWarning: Glyph 46972 (\\N{HANGUL SYLLABLE RA}) missing from font(s) DejaVu Sans.\n",
      "  fig.savefig(save_dir, dpi=250)\n",
      "c:\\Users\\User\\anaconda3\\Lib\\site-packages\\ultralytics\\utils\\metrics.py:495: UserWarning: Glyph 54001 (\\N{HANGUL SYLLABLE TIG}) missing from font(s) DejaVu Sans.\n",
      "  fig.savefig(save_dir, dpi=250)\n"
     ]
    },
    {
     "name": "stdout",
     "output_type": "stream",
     "text": [
      "                          1027       1027      0.843      0.837      0.918      0.851\n",
      "                        1005       1250      0.895       0.97      0.974      0.914\n",
      "                         1197       1197      0.814      0.857      0.909      0.807\n",
      "                          1005       1066      0.799       0.92      0.926      0.876\n",
      "                           1030       1035      0.765       0.93      0.926       0.85\n",
      "                         1005       1012      0.901      0.636       0.85      0.739\n",
      "                         985       1026      0.852       0.57      0.782      0.736\n"
     ]
    },
    {
     "name": "stderr",
     "output_type": "stream",
     "text": [
      "c:\\Users\\User\\anaconda3\\Lib\\site-packages\\ultralytics\\utils\\metrics.py:432: UserWarning: Glyph 48708 (\\N{HANGUL SYLLABLE BI}) missing from font(s) Arial.\n",
      "  fig.savefig(plot_fname, dpi=250)\n",
      "c:\\Users\\User\\anaconda3\\Lib\\site-packages\\ultralytics\\utils\\metrics.py:432: UserWarning: Glyph 45776 (\\N{HANGUL SYLLABLE NIL}) missing from font(s) Arial.\n",
      "  fig.savefig(plot_fname, dpi=250)\n",
      "c:\\Users\\User\\anaconda3\\Lib\\site-packages\\ultralytics\\utils\\metrics.py:432: UserWarning: Glyph 47448 (\\N{HANGUL SYLLABLE RYU}) missing from font(s) Arial.\n",
      "  fig.savefig(plot_fname, dpi=250)\n",
      "c:\\Users\\User\\anaconda3\\Lib\\site-packages\\ultralytics\\utils\\metrics.py:432: UserWarning: Glyph 49828 (\\N{HANGUL SYLLABLE SEU}) missing from font(s) Arial.\n",
      "  fig.savefig(plot_fname, dpi=250)\n",
      "c:\\Users\\User\\anaconda3\\Lib\\site-packages\\ultralytics\\utils\\metrics.py:432: UserWarning: Glyph 54000 (\\N{HANGUL SYLLABLE TI}) missing from font(s) Arial.\n",
      "  fig.savefig(plot_fname, dpi=250)\n",
      "c:\\Users\\User\\anaconda3\\Lib\\site-packages\\ultralytics\\utils\\metrics.py:432: UserWarning: Glyph 47196 (\\N{HANGUL SYLLABLE RO}) missing from font(s) Arial.\n",
      "  fig.savefig(plot_fname, dpi=250)\n",
      "c:\\Users\\User\\anaconda3\\Lib\\site-packages\\ultralytics\\utils\\metrics.py:432: UserWarning: Glyph 54268 (\\N{HANGUL SYLLABLE POM}) missing from font(s) Arial.\n",
      "  fig.savefig(plot_fname, dpi=250)\n",
      "c:\\Users\\User\\anaconda3\\Lib\\site-packages\\ultralytics\\utils\\metrics.py:432: UserWarning: Glyph 50976 (\\N{HANGUL SYLLABLE YU}) missing from font(s) Arial.\n",
      "  fig.savefig(plot_fname, dpi=250)\n",
      "c:\\Users\\User\\anaconda3\\Lib\\site-packages\\ultralytics\\utils\\metrics.py:432: UserWarning: Glyph 47532 (\\N{HANGUL SYLLABLE RI}) missing from font(s) Arial.\n",
      "  fig.savefig(plot_fname, dpi=250)\n",
      "c:\\Users\\User\\anaconda3\\Lib\\site-packages\\ultralytics\\utils\\metrics.py:432: UserWarning: Glyph 48337 (\\N{HANGUL SYLLABLE BYEONG}) missing from font(s) Arial.\n",
      "  fig.savefig(plot_fname, dpi=250)\n",
      "c:\\Users\\User\\anaconda3\\Lib\\site-packages\\ultralytics\\utils\\metrics.py:432: UserWarning: Glyph 51333 (\\N{HANGUL SYLLABLE JONG}) missing from font(s) Arial.\n",
      "  fig.savefig(plot_fname, dpi=250)\n",
      "c:\\Users\\User\\anaconda3\\Lib\\site-packages\\ultralytics\\utils\\metrics.py:432: UserWarning: Glyph 51060 (\\N{HANGUL SYLLABLE I}) missing from font(s) Arial.\n",
      "  fig.savefig(plot_fname, dpi=250)\n",
      "c:\\Users\\User\\anaconda3\\Lib\\site-packages\\ultralytics\\utils\\metrics.py:432: UserWarning: Glyph 52884 (\\N{HANGUL SYLLABLE KAEN}) missing from font(s) Arial.\n",
      "  fig.savefig(plot_fname, dpi=250)\n",
      "c:\\Users\\User\\anaconda3\\Lib\\site-packages\\ultralytics\\utils\\metrics.py:432: UserWarning: Glyph 54168 (\\N{HANGUL SYLLABLE PE}) missing from font(s) Arial.\n",
      "  fig.savefig(plot_fname, dpi=250)\n",
      "c:\\Users\\User\\anaconda3\\Lib\\site-packages\\ultralytics\\utils\\metrics.py:432: UserWarning: Glyph 53944 (\\N{HANGUL SYLLABLE TEU}) missing from font(s) Arial.\n",
      "  fig.savefig(plot_fname, dpi=250)\n",
      "c:\\Users\\User\\anaconda3\\Lib\\site-packages\\ultralytics\\utils\\metrics.py:432: UserWarning: Glyph 54540 (\\N{HANGUL SYLLABLE PEUL}) missing from font(s) Arial.\n",
      "  fig.savefig(plot_fname, dpi=250)\n",
      "c:\\Users\\User\\anaconda3\\Lib\\site-packages\\ultralytics\\utils\\metrics.py:432: UserWarning: Glyph 46972 (\\N{HANGUL SYLLABLE RA}) missing from font(s) Arial.\n",
      "  fig.savefig(plot_fname, dpi=250)\n",
      "c:\\Users\\User\\anaconda3\\Lib\\site-packages\\ultralytics\\utils\\metrics.py:432: UserWarning: Glyph 54001 (\\N{HANGUL SYLLABLE TIG}) missing from font(s) Arial.\n",
      "  fig.savefig(plot_fname, dpi=250)\n",
      "c:\\Users\\User\\anaconda3\\Lib\\site-packages\\ultralytics\\utils\\metrics.py:432: UserWarning: Glyph 48708 (\\N{HANGUL SYLLABLE BI}) missing from font(s) Arial.\n",
      "  fig.savefig(plot_fname, dpi=250)\n",
      "c:\\Users\\User\\anaconda3\\Lib\\site-packages\\ultralytics\\utils\\metrics.py:432: UserWarning: Glyph 45776 (\\N{HANGUL SYLLABLE NIL}) missing from font(s) Arial.\n",
      "  fig.savefig(plot_fname, dpi=250)\n",
      "c:\\Users\\User\\anaconda3\\Lib\\site-packages\\ultralytics\\utils\\metrics.py:432: UserWarning: Glyph 47448 (\\N{HANGUL SYLLABLE RYU}) missing from font(s) Arial.\n",
      "  fig.savefig(plot_fname, dpi=250)\n",
      "c:\\Users\\User\\anaconda3\\Lib\\site-packages\\ultralytics\\utils\\metrics.py:432: UserWarning: Glyph 49828 (\\N{HANGUL SYLLABLE SEU}) missing from font(s) Arial.\n",
      "  fig.savefig(plot_fname, dpi=250)\n",
      "c:\\Users\\User\\anaconda3\\Lib\\site-packages\\ultralytics\\utils\\metrics.py:432: UserWarning: Glyph 54000 (\\N{HANGUL SYLLABLE TI}) missing from font(s) Arial.\n",
      "  fig.savefig(plot_fname, dpi=250)\n",
      "c:\\Users\\User\\anaconda3\\Lib\\site-packages\\ultralytics\\utils\\metrics.py:432: UserWarning: Glyph 47196 (\\N{HANGUL SYLLABLE RO}) missing from font(s) Arial.\n",
      "  fig.savefig(plot_fname, dpi=250)\n",
      "c:\\Users\\User\\anaconda3\\Lib\\site-packages\\ultralytics\\utils\\metrics.py:432: UserWarning: Glyph 54268 (\\N{HANGUL SYLLABLE POM}) missing from font(s) Arial.\n",
      "  fig.savefig(plot_fname, dpi=250)\n",
      "c:\\Users\\User\\anaconda3\\Lib\\site-packages\\ultralytics\\utils\\metrics.py:432: UserWarning: Glyph 50976 (\\N{HANGUL SYLLABLE YU}) missing from font(s) Arial.\n",
      "  fig.savefig(plot_fname, dpi=250)\n",
      "c:\\Users\\User\\anaconda3\\Lib\\site-packages\\ultralytics\\utils\\metrics.py:432: UserWarning: Glyph 47532 (\\N{HANGUL SYLLABLE RI}) missing from font(s) Arial.\n",
      "  fig.savefig(plot_fname, dpi=250)\n",
      "c:\\Users\\User\\anaconda3\\Lib\\site-packages\\ultralytics\\utils\\metrics.py:432: UserWarning: Glyph 48337 (\\N{HANGUL SYLLABLE BYEONG}) missing from font(s) Arial.\n",
      "  fig.savefig(plot_fname, dpi=250)\n",
      "c:\\Users\\User\\anaconda3\\Lib\\site-packages\\ultralytics\\utils\\metrics.py:432: UserWarning: Glyph 51333 (\\N{HANGUL SYLLABLE JONG}) missing from font(s) Arial.\n",
      "  fig.savefig(plot_fname, dpi=250)\n",
      "c:\\Users\\User\\anaconda3\\Lib\\site-packages\\ultralytics\\utils\\metrics.py:432: UserWarning: Glyph 51060 (\\N{HANGUL SYLLABLE I}) missing from font(s) Arial.\n",
      "  fig.savefig(plot_fname, dpi=250)\n",
      "c:\\Users\\User\\anaconda3\\Lib\\site-packages\\ultralytics\\utils\\metrics.py:432: UserWarning: Glyph 52884 (\\N{HANGUL SYLLABLE KAEN}) missing from font(s) Arial.\n",
      "  fig.savefig(plot_fname, dpi=250)\n",
      "c:\\Users\\User\\anaconda3\\Lib\\site-packages\\ultralytics\\utils\\metrics.py:432: UserWarning: Glyph 54168 (\\N{HANGUL SYLLABLE PE}) missing from font(s) Arial.\n",
      "  fig.savefig(plot_fname, dpi=250)\n",
      "c:\\Users\\User\\anaconda3\\Lib\\site-packages\\ultralytics\\utils\\metrics.py:432: UserWarning: Glyph 53944 (\\N{HANGUL SYLLABLE TEU}) missing from font(s) Arial.\n",
      "  fig.savefig(plot_fname, dpi=250)\n",
      "c:\\Users\\User\\anaconda3\\Lib\\site-packages\\ultralytics\\utils\\metrics.py:432: UserWarning: Glyph 54540 (\\N{HANGUL SYLLABLE PEUL}) missing from font(s) Arial.\n",
      "  fig.savefig(plot_fname, dpi=250)\n",
      "c:\\Users\\User\\anaconda3\\Lib\\site-packages\\ultralytics\\utils\\metrics.py:432: UserWarning: Glyph 46972 (\\N{HANGUL SYLLABLE RA}) missing from font(s) Arial.\n",
      "  fig.savefig(plot_fname, dpi=250)\n",
      "c:\\Users\\User\\anaconda3\\Lib\\site-packages\\ultralytics\\utils\\metrics.py:432: UserWarning: Glyph 54001 (\\N{HANGUL SYLLABLE TIG}) missing from font(s) Arial.\n",
      "  fig.savefig(plot_fname, dpi=250)\n"
     ]
    },
    {
     "name": "stdout",
     "output_type": "stream",
     "text": [
      "Speed: 0.4ms preprocess, 47.5ms inference, 0.0ms loss, 0.1ms postprocess per image\n",
      "Results saved to \u001b[1mruns\\detect\\test_result13\u001b[0m\n"
     ]
    }
   ],
   "source": [
    "model = YOLO(\"yolov8s.pt\")\n",
    "\n",
    "result = model.train(data=\"D:/project/Sejongseye/YOLOv8/coco8.yaml\", \n",
    "imgsz=640, \n",
    "epochs=3, \n",
    "batch = 10, \n",
    "optimizer='AdamW', \n",
    "lr0 = 0.005, \n",
    "name ='test_result')\n",
    "\n"
   ]
  },
  {
   "cell_type": "code",
   "execution_count": 3,
   "metadata": {},
   "outputs": [
    {
     "name": "stdout",
     "output_type": "stream",
     "text": [
      "WARNING  'line_thickness' is deprecated and will be removed in in the future. Use 'line_width' instead.\n",
      "\n",
      "image 1/1 D:\\project\\Sejongseye\\YOLOv8\\dataset\\test\\images\\test1.jpg: 480x640 (no detections), 83.6ms\n",
      "Speed: 15.7ms preprocess, 83.6ms inference, 0.0ms postprocess per image at shape (1, 3, 480, 640)\n",
      "Results saved to \u001b[1mruns\\detect\\predict\u001b[0m\n"
     ]
    }
   ],
   "source": [
    "import matplotlib.image as mpimg\n",
    "import cv2\n",
    "#image1 = mpimg.imread('/test_result/train_batch2.jpg')\n",
    "#image2 = mpimg.imread('/test_result/results.jpg')\n",
    "#image3 = mpimg.imread('/test_result/val_batch0_pred.jpg')\n",
    "\n",
    "\n",
    "#fig, axes = plt.subplots(1, 3, figsize=(15,5))\n",
    "\n",
    "#axes[0].imshow(image1)\n",
    "#axes[0].set_title(\"while training.png\")\n",
    "#axes[0].axis('off')\n",
    "\n",
    "#axes[1].imshow(image2)\n",
    "#axes[1].set_title(\"results of training.png\")\n",
    "#axes[1].axis('off')\n",
    "\n",
    "\n",
    "pre_model = YOLO('yolov8s.pt')\n",
    "result = pre_model(\"D:/project/Sejongseye/YOLOv8/dataset/test/images/test1.jpg\", conf=0.5, save = True, line_thickness=1)\n",
    "\n"
   ]
  },
  {
   "cell_type": "code",
   "execution_count": 4,
   "metadata": {},
   "outputs": [],
   "source": [
    "res_plotted = result[0].plot()"
   ]
  },
  {
   "cell_type": "code",
   "execution_count": null,
   "metadata": {},
   "outputs": [
    {
     "data": {
      "text/plain": [
       "26"
      ]
     },
     "execution_count": 10,
     "metadata": {},
     "output_type": "execute_result"
    }
   ],
   "source": [
    "cv2.imshow('test',res_plotted)\n",
    "cv2.waitKey(0)\n"
   ]
  },
  {
   "cell_type": "code",
   "execution_count": 16,
   "metadata": {},
   "outputs": [],
   "source": [
    "cv2.destroyAllWindows()"
   ]
  }
 ],
 "metadata": {
  "kernelspec": {
   "display_name": "base",
   "language": "python",
   "name": "python3"
  },
  "language_info": {
   "codemirror_mode": {
    "name": "ipython",
    "version": 3
   },
   "file_extension": ".py",
   "mimetype": "text/x-python",
   "name": "python",
   "nbconvert_exporter": "python",
   "pygments_lexer": "ipython3",
   "version": "3.12.4"
  }
 },
 "nbformat": 4,
 "nbformat_minor": 2
}
